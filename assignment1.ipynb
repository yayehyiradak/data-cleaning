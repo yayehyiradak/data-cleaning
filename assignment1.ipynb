{
 "cells": [
  {
   "cell_type": "markdown",
   "id": "8567b0ca-0808-4d00-8d43-1f11b002343c",
   "metadata": {},
   "source": [
    "<h1>PROJECT</h1>\n",
    "\n",
    "**Project Title**: Data Cleaning, Preprocessing, and Visualization of Student Performance Dataset\n",
    "\n",
    "**Project Overview**:\n",
    "> In this project, you will be working with a student performance dataset that contains information on students' demographic details and their scores in various subjects. The dataset also includes some inconsistencies, missing values, outliers, and data type errors that need to be addressed. Your task is to clean, preprocess, and visualize the data to gain meaningful insights into student performance."
   ]
  },
  {
   "cell_type": "code",
   "execution_count": 16,
   "id": "7fbdbade-1db2-4af5-9efa-35031dca2ddf",
   "metadata": {},
   "outputs": [
    {
     "data": {
      "text/html": [
       "<div>\n",
       "<style scoped>\n",
       "    .dataframe tbody tr th:only-of-type {\n",
       "        vertical-align: middle;\n",
       "    }\n",
       "\n",
       "    .dataframe tbody tr th {\n",
       "        vertical-align: top;\n",
       "    }\n",
       "\n",
       "    .dataframe thead th {\n",
       "        text-align: right;\n",
       "    }\n",
       "</style>\n",
       "<table border=\"1\" class=\"dataframe\">\n",
       "  <thead>\n",
       "    <tr style=\"text-align: right;\">\n",
       "      <th></th>\n",
       "      <th>Name</th>\n",
       "      <th>Age</th>\n",
       "      <th>Gender</th>\n",
       "      <th>Math_Score</th>\n",
       "      <th>Science_Score</th>\n",
       "      <th>Enrollment_Date</th>\n",
       "      <th>Graduated</th>\n",
       "    </tr>\n",
       "  </thead>\n",
       "  <tbody>\n",
       "    <tr>\n",
       "      <th>0</th>\n",
       "      <td>Alice</td>\n",
       "      <td>25.0</td>\n",
       "      <td>Female</td>\n",
       "      <td>88</td>\n",
       "      <td>NaN</td>\n",
       "      <td>2020-01-15</td>\n",
       "      <td>Yes</td>\n",
       "    </tr>\n",
       "    <tr>\n",
       "      <th>1</th>\n",
       "      <td>Bob</td>\n",
       "      <td>30.0</td>\n",
       "      <td>Male</td>\n",
       "      <td>92</td>\n",
       "      <td>85</td>\n",
       "      <td>15/02/2020</td>\n",
       "      <td>No</td>\n",
       "    </tr>\n",
       "    <tr>\n",
       "      <th>2</th>\n",
       "      <td>Charlie</td>\n",
       "      <td>35.0</td>\n",
       "      <td>male</td>\n",
       "      <td>100</td>\n",
       "      <td>95</td>\n",
       "      <td>2020/03/10</td>\n",
       "      <td>No</td>\n",
       "    </tr>\n",
       "    <tr>\n",
       "      <th>3</th>\n",
       "      <td>David</td>\n",
       "      <td>NaN</td>\n",
       "      <td>Female</td>\n",
       "      <td>78</td>\n",
       "      <td>70</td>\n",
       "      <td>April 5, 2020</td>\n",
       "      <td>Yes</td>\n",
       "    </tr>\n",
       "    <tr>\n",
       "      <th>4</th>\n",
       "      <td>Eva</td>\n",
       "      <td>40.0</td>\n",
       "      <td>Female</td>\n",
       "      <td>85</td>\n",
       "      <td>missing</td>\n",
       "      <td>NaN</td>\n",
       "      <td>No</td>\n",
       "    </tr>\n",
       "    <tr>\n",
       "      <th>5</th>\n",
       "      <td>Frank</td>\n",
       "      <td>50.0</td>\n",
       "      <td>NaN</td>\n",
       "      <td>NaN</td>\n",
       "      <td>98</td>\n",
       "      <td>2020-05-25</td>\n",
       "      <td>NaN</td>\n",
       "    </tr>\n",
       "    <tr>\n",
       "      <th>6</th>\n",
       "      <td>Grace</td>\n",
       "      <td>-999.0</td>\n",
       "      <td>Female</td>\n",
       "      <td>110</td>\n",
       "      <td>100</td>\n",
       "      <td>2020-06-30</td>\n",
       "      <td>yes</td>\n",
       "    </tr>\n",
       "    <tr>\n",
       "      <th>7</th>\n",
       "      <td>Helen</td>\n",
       "      <td>28.0</td>\n",
       "      <td>f</td>\n",
       "      <td>95</td>\n",
       "      <td>105</td>\n",
       "      <td>July 10, 2020</td>\n",
       "      <td>No</td>\n",
       "    </tr>\n",
       "    <tr>\n",
       "      <th>8</th>\n",
       "      <td>Ivy</td>\n",
       "      <td>NaN</td>\n",
       "      <td>Female</td>\n",
       "      <td>60</td>\n",
       "      <td>60</td>\n",
       "      <td>2020-08-15</td>\n",
       "      <td>Yes</td>\n",
       "    </tr>\n",
       "    <tr>\n",
       "      <th>9</th>\n",
       "      <td>Jack</td>\n",
       "      <td>45.0</td>\n",
       "      <td>Male</td>\n",
       "      <td>88</td>\n",
       "      <td>77</td>\n",
       "      <td>2020-09-01</td>\n",
       "      <td>no</td>\n",
       "    </tr>\n",
       "    <tr>\n",
       "      <th>10</th>\n",
       "      <td>Alice</td>\n",
       "      <td>25.0</td>\n",
       "      <td>Female</td>\n",
       "      <td>88</td>\n",
       "      <td>85</td>\n",
       "      <td>2020-01-15</td>\n",
       "      <td>Yes</td>\n",
       "    </tr>\n",
       "    <tr>\n",
       "      <th>11</th>\n",
       "      <td>Eva</td>\n",
       "      <td>30.0</td>\n",
       "      <td>Female</td>\n",
       "      <td>NaN</td>\n",
       "      <td>85</td>\n",
       "      <td>2020-05-25</td>\n",
       "      <td>No</td>\n",
       "    </tr>\n",
       "    <tr>\n",
       "      <th>12</th>\n",
       "      <td>Charlie</td>\n",
       "      <td>35.0</td>\n",
       "      <td>Male</td>\n",
       "      <td>N/A</td>\n",
       "      <td>70</td>\n",
       "      <td>2020/03/10</td>\n",
       "      <td>No</td>\n",
       "    </tr>\n",
       "    <tr>\n",
       "      <th>13</th>\n",
       "      <td>Eva</td>\n",
       "      <td>40.0</td>\n",
       "      <td>Female</td>\n",
       "      <td>85</td>\n",
       "      <td>70</td>\n",
       "      <td>April 5, 2020</td>\n",
       "      <td>Yes</td>\n",
       "    </tr>\n",
       "  </tbody>\n",
       "</table>\n",
       "</div>"
      ],
      "text/plain": [
       "       Name    Age  Gender Math_Score Science_Score Enrollment_Date Graduated\n",
       "0     Alice   25.0  Female         88           NaN      2020-01-15       Yes\n",
       "1       Bob   30.0    Male         92            85      15/02/2020        No\n",
       "2   Charlie   35.0    male        100            95      2020/03/10        No\n",
       "3     David    NaN  Female         78            70   April 5, 2020       Yes\n",
       "4       Eva   40.0  Female         85       missing             NaN        No\n",
       "5     Frank   50.0     NaN        NaN            98      2020-05-25       NaN\n",
       "6     Grace -999.0  Female        110           100      2020-06-30       yes\n",
       "7     Helen   28.0       f         95           105   July 10, 2020        No\n",
       "8       Ivy    NaN  Female         60            60      2020-08-15       Yes\n",
       "9      Jack   45.0    Male         88            77      2020-09-01        no\n",
       "10    Alice   25.0  Female         88            85      2020-01-15       Yes\n",
       "11      Eva   30.0  Female        NaN            85      2020-05-25        No\n",
       "12  Charlie   35.0    Male        N/A            70      2020/03/10        No\n",
       "13      Eva   40.0  Female         85            70   April 5, 2020       Yes"
      ]
     },
     "execution_count": 16,
     "metadata": {},
     "output_type": "execute_result"
    }
   ],
   "source": [
    "import pandas as pd\n",
    "import numpy as np\n",
    "\n",
    "# Creating the enriched dataset\n",
    "data = {\n",
    "    'Name': ['Alice', 'Bob', 'Charlie', 'David', 'Eva', 'Frank', 'Grace', 'Helen', 'Ivy', 'Jack',\n",
    "             'Alice', 'Eva', 'Charlie', 'Eva'],  # Duplicate names\n",
    "    'Age': [25, 30, 35, np.nan, 40, 50, -999, 28, None, 45, 25, 30, 35, 40],  # Missing values, None, Outlier (-999)\n",
    "    'Gender': ['Female', 'Male', 'male', 'Female', 'Female', np.nan, 'Female', 'f', 'Female', 'Male',\n",
    "               'Female', 'Female', 'Male', 'Female'],  # Inconsistent capitalization\n",
    "    'Math_Score': [88, 92, 100, 78, 85, np.nan, 110, 95, 60, 88, 88, np.nan, 'N/A', 85],  # Missing values, Outliers, Incorrect data type\n",
    "    'Science_Score': [np.nan, 85, 95, 70, 'missing', 98, 100, 105, 60, 77, 85, 85, 70, 70],  # Missing values, Inconsistent data representation\n",
    "    'Enrollment_Date': ['2020-01-15', '15/02/2020', '2020/03/10', 'April 5, 2020', np.nan, '2020-05-25',\n",
    "                        '2020-06-30', 'July 10, 2020', '2020-08-15', '2020-09-01', '2020-01-15', '2020-05-25',\n",
    "                        '2020/03/10', 'April 5, 2020'],  # Inconsistent date formats, Missing values\n",
    "    'Graduated': ['Yes', 'No', 'No', 'Yes', 'No', np.nan, 'yes', 'No', 'Yes', 'no', 'Yes', 'No', 'No', 'Yes'],  # Inconsistent capitalization\n",
    "}\n",
    "\n",
    "# Converting into a DataFrame\n",
    "df = pd.DataFrame(data)\n",
    "df\n"
   ]
  },
  {
   "cell_type": "markdown",
   "id": "27d5ce8e-7f80-433e-a2b3-3ab36b817b7f",
   "metadata": {},
   "source": [
    "**Issues Present in the Dataset:**<br>\n",
    "**Duplicate Entries:**\n",
    "> * Duplicate names and rows.<br>\n",
    "\n",
    "**Missing Values:**\n",
    "> * NaN, None, and 'missing' strings in numeric and categorical columns.\n",
    "\n",
    "**Inconsistent Data Formats:**\n",
    "> * Dates are in different formats (e.g., 2020-01-15, 15/02/2020, April 5, 2020).\n",
    "Inconsistent capitalization in the Gender and Graduated columns.\n",
    "Math_Score contains an outlier (110) and a non-numeric entry ('N/A').\n",
    "\n",
    "**Outliers:**\n",
    "> * Age column contains an outlier value of -999.\n",
    "Math_Score has a score of 110, which might be unrealistic depending on the context.\n",
    "\n",
    "**Incorrect Data Types:**\n",
    "> * Science_Score has a string entry ('missing').<br>\n",
    "> * Math_Score contains a non-numeric entry ('N/A')."
   ]
  },
  {
   "cell_type": "markdown",
   "id": "248fee99-9931-4d9b-8eab-a11a55babb42",
   "metadata": {},
   "source": [
    "**Lab Manual Steps for Cleaning and Preprocessing:**"
   ]
  },
  {
   "cell_type": "markdown",
   "id": "b73ae9f9-0cc8-409c-98b1-a946dd512d86",
   "metadata": {},
   "source": [
    "1. **Handling Missing Values**: isna(), fillna(), dropna(), interpolate()\n",
    "2. **Handling Inconsistent Data Formats**: str.lower(), str.replace(), to_datetime(), apply()\n",
    "3. **Removing or Handling Duplicate Entries**: duplicated(), drop_duplicates()\n",
    "4. **Handling Outliers**: clip(), IQR method, z-score, Winsorization\n",
    "5. **Correcting Data Types**: astype(), to_numeric(), apply()"
   ]
  },
  {
   "cell_type": "markdown",
   "id": "7eca3c7c-c73d-416b-866f-0bf889309a3a",
   "metadata": {},
   "source": [
    "**Practical Walkthrough:**"
   ]
  },
  {
   "cell_type": "markdown",
   "id": "db1bfff1-d49e-46ec-9ec1-513412388fb5",
   "metadata": {},
   "source": [
    "**1. Removing Duplicates**"
   ]
  },
  {
   "cell_type": "code",
   "execution_count": 17,
   "id": "56f12a35-7cdf-4de1-89bb-9f501ba89660",
   "metadata": {},
   "outputs": [],
   "source": [
    "df.drop_duplicates(subset='Name', inplace=True)"
   ]
  },
  {
   "cell_type": "markdown",
   "id": "e263bfed-7890-47f6-899c-9fe263d704a3",
   "metadata": {},
   "source": [
    "**2. Hanndling Missing Values**"
   ]
  },
  {
   "cell_type": "code",
   "execution_count": 18,
   "id": "23170cc0-98d0-40f7-8218-4576818571f6",
   "metadata": {},
   "outputs": [
    {
     "data": {
      "text/html": [
       "<div>\n",
       "<style scoped>\n",
       "    .dataframe tbody tr th:only-of-type {\n",
       "        vertical-align: middle;\n",
       "    }\n",
       "\n",
       "    .dataframe tbody tr th {\n",
       "        vertical-align: top;\n",
       "    }\n",
       "\n",
       "    .dataframe thead th {\n",
       "        text-align: right;\n",
       "    }\n",
       "</style>\n",
       "<table border=\"1\" class=\"dataframe\">\n",
       "  <thead>\n",
       "    <tr style=\"text-align: right;\">\n",
       "      <th></th>\n",
       "      <th>Name</th>\n",
       "      <th>Age</th>\n",
       "      <th>Gender</th>\n",
       "      <th>Math_Score</th>\n",
       "      <th>Science_Score</th>\n",
       "      <th>Enrollment_Date</th>\n",
       "      <th>Graduated</th>\n",
       "    </tr>\n",
       "  </thead>\n",
       "  <tbody>\n",
       "    <tr>\n",
       "      <th>1</th>\n",
       "      <td>Bob</td>\n",
       "      <td>30.0</td>\n",
       "      <td>Male</td>\n",
       "      <td>92</td>\n",
       "      <td>85</td>\n",
       "      <td>15/02/2020</td>\n",
       "      <td>No</td>\n",
       "    </tr>\n",
       "    <tr>\n",
       "      <th>2</th>\n",
       "      <td>Charlie</td>\n",
       "      <td>35.0</td>\n",
       "      <td>male</td>\n",
       "      <td>100</td>\n",
       "      <td>95</td>\n",
       "      <td>2020/03/10</td>\n",
       "      <td>No</td>\n",
       "    </tr>\n",
       "    <tr>\n",
       "      <th>6</th>\n",
       "      <td>Grace</td>\n",
       "      <td>-999.0</td>\n",
       "      <td>Female</td>\n",
       "      <td>110</td>\n",
       "      <td>100</td>\n",
       "      <td>2020-06-30</td>\n",
       "      <td>yes</td>\n",
       "    </tr>\n",
       "    <tr>\n",
       "      <th>7</th>\n",
       "      <td>Helen</td>\n",
       "      <td>28.0</td>\n",
       "      <td>f</td>\n",
       "      <td>95</td>\n",
       "      <td>105</td>\n",
       "      <td>July 10, 2020</td>\n",
       "      <td>No</td>\n",
       "    </tr>\n",
       "    <tr>\n",
       "      <th>9</th>\n",
       "      <td>Jack</td>\n",
       "      <td>45.0</td>\n",
       "      <td>Male</td>\n",
       "      <td>88</td>\n",
       "      <td>77</td>\n",
       "      <td>2020-09-01</td>\n",
       "      <td>no</td>\n",
       "    </tr>\n",
       "  </tbody>\n",
       "</table>\n",
       "</div>"
      ],
      "text/plain": [
       "      Name    Age  Gender Math_Score Science_Score Enrollment_Date Graduated\n",
       "1      Bob   30.0    Male         92            85      15/02/2020        No\n",
       "2  Charlie   35.0    male        100            95      2020/03/10        No\n",
       "6    Grace -999.0  Female        110           100      2020-06-30       yes\n",
       "7    Helen   28.0       f         95           105   July 10, 2020        No\n",
       "9     Jack   45.0    Male         88            77      2020-09-01        no"
      ]
     },
     "execution_count": 18,
     "metadata": {},
     "output_type": "execute_result"
    }
   ],
   "source": [
    "df = df.dropna()\n",
    "df.head()"
   ]
  },
  {
   "cell_type": "markdown",
   "id": "010aee61-867e-47a3-ae40-f788c47a20d6",
   "metadata": {},
   "source": [
    "**3. Handling Inconsistent Data Formats**"
   ]
  },
  {
   "cell_type": "code",
   "execution_count": null,
   "id": "797e48da-b39c-456b-814a-90d68fb5f1b7",
   "metadata": {},
   "outputs": [],
   "source": []
  },
  {
   "cell_type": "markdown",
   "id": "4dbcc781-3fbc-4fa5-9387-e9ac39be9115",
   "metadata": {},
   "source": [
    "**4. Handling Outliers**"
   ]
  },
  {
   "cell_type": "code",
   "execution_count": null,
   "id": "fb9bfe39-1746-4b16-b2d2-a1b211d030fb",
   "metadata": {},
   "outputs": [],
   "source": []
  },
  {
   "cell_type": "code",
   "execution_count": null,
   "id": "c5df5900-beda-47e6-b08c-bab58d4509e1",
   "metadata": {},
   "outputs": [],
   "source": []
  },
  {
   "cell_type": "markdown",
   "id": "955452d9-5c21-42f6-975d-12e9857bcc8c",
   "metadata": {},
   "source": [
    "**5. Correcting Data Types**"
   ]
  },
  {
   "cell_type": "code",
   "execution_count": null,
   "id": "46556483-e4a6-4742-b6f7-1fd63676ae1e",
   "metadata": {},
   "outputs": [],
   "source": []
  },
  {
   "cell_type": "markdown",
   "id": "bdd91b29-b900-4cbf-968a-2c3021d255ef",
   "metadata": {},
   "source": [
    "**6. Visualizing the Distribution of Age**<br>This will help to see how the ages are distributed in the dataset."
   ]
  },
  {
   "cell_type": "code",
   "execution_count": null,
   "id": "f28da94e-ab9b-4760-b1da-03b2e0b3df5d",
   "metadata": {},
   "outputs": [],
   "source": []
  },
  {
   "cell_type": "markdown",
   "id": "4a6f7ddd-ee70-4c91-bba9-ac02947727a2",
   "metadata": {},
   "source": [
    "**7. Visualizing Gender Distribution**<br>A pie chart to show the proportion of males and females."
   ]
  },
  {
   "cell_type": "code",
   "execution_count": null,
   "id": "4c5cf771-b89b-4938-9eba-befa1b2ecd49",
   "metadata": {},
   "outputs": [],
   "source": []
  },
  {
   "cell_type": "markdown",
   "id": "c7775809-cbbf-4366-9abc-9fd5e1307304",
   "metadata": {},
   "source": [
    "**8. Scatter Plot for Math vs Science Scores**<br>This shows the relationship between Math and Science scores."
   ]
  },
  {
   "cell_type": "code",
   "execution_count": null,
   "id": "60e4787d-87cc-4856-9d32-774a3741ff75",
   "metadata": {},
   "outputs": [],
   "source": []
  },
  {
   "cell_type": "markdown",
   "id": "4982a6ef-37b9-41d8-9236-f280d2a0212e",
   "metadata": {},
   "source": [
    "**9. Histogram for Enrollment Dates**<br>This will help in visualizing the frequency of enrollments over time."
   ]
  },
  {
   "cell_type": "code",
   "execution_count": null,
   "id": "76b90f74-8667-44aa-872d-f0c156c8fcab",
   "metadata": {},
   "outputs": [],
   "source": []
  },
  {
   "cell_type": "markdown",
   "id": "3df5921c-5ced-4d8a-8099-cb616558fa9e",
   "metadata": {},
   "source": [
    "**10. Pair Plot to Visualize Relationships**<br>\n",
    "Create a pair plot to see relationships between Age, Math_Score, and Science_Score."
   ]
  },
  {
   "cell_type": "code",
   "execution_count": null,
   "id": "76733da4-70ef-47db-b7e7-6fbfc4c64117",
   "metadata": {},
   "outputs": [],
   "source": []
  },
  {
   "cell_type": "markdown",
   "id": "05f6dfc7-1d26-46ac-9b50-0abf74f78957",
   "metadata": {},
   "source": [
    "**10. Violin Plot for Score Distributions**<br>\n",
    "Create a violin plot to show the distribution of Math_Score and Science_Score by Gender."
   ]
  },
  {
   "cell_type": "code",
   "execution_count": null,
   "id": "f83c15cf-288a-45cf-a7b0-a06afe78a4a9",
   "metadata": {},
   "outputs": [],
   "source": []
  },
  {
   "cell_type": "markdown",
   "id": "2047b266-5ee8-42e0-9bee-a54f8ceb53b3",
   "metadata": {},
   "source": [
    "**11. Box Plot of Scores by Graduation Status**<br>\n",
    "Show the distribution of Math_Score and Science_Score based on whether the student graduated."
   ]
  },
  {
   "cell_type": "code",
   "execution_count": null,
   "id": "b81c566d-aeae-4079-9613-65d85e079785",
   "metadata": {},
   "outputs": [],
   "source": []
  },
  {
   "cell_type": "markdown",
   "id": "16ca80b2-4f3f-4913-8000-7c5b2e9a1bf3",
   "metadata": {},
   "source": [
    "**12. KDE Plot of Scores**<br>\n",
    "Create Kernel Density Estimation (KDE) plots for Math_Score and Science_Score."
   ]
  },
  {
   "cell_type": "code",
   "execution_count": null,
   "id": "80c51e56-1900-4185-b13e-713bb7f08cd6",
   "metadata": {},
   "outputs": [],
   "source": []
  },
  {
   "cell_type": "markdown",
   "id": "31646ac1-006e-4c52-8bfa-608b6fd269b0",
   "metadata": {},
   "source": [
    "**13. Histogram for Each Numerical Column**<br>\n",
    "Create histograms for all numerical columns (Age, Math_Score, Science_Score)."
   ]
  },
  {
   "cell_type": "code",
   "execution_count": null,
   "id": "ffb40eb7-0015-4437-8194-688a1e23e7ab",
   "metadata": {},
   "outputs": [],
   "source": []
  }
 ],
 "metadata": {
  "kernelspec": {
   "display_name": "Python 3 (ipykernel)",
   "language": "python",
   "name": "python3"
  },
  "language_info": {
   "codemirror_mode": {
    "name": "ipython",
    "version": 3
   },
   "file_extension": ".py",
   "mimetype": "text/x-python",
   "name": "python",
   "nbconvert_exporter": "python",
   "pygments_lexer": "ipython3",
   "version": "3.12.4"
  }
 },
 "nbformat": 4,
 "nbformat_minor": 5
}
